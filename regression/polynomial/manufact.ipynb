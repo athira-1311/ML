{
 "cells": [
  {
   "cell_type": "code",
   "execution_count": 2,
   "metadata": {},
   "outputs": [
    {
     "data": {
      "text/html": [
       "<div>\n",
       "<style scoped>\n",
       "    .dataframe tbody tr th:only-of-type {\n",
       "        vertical-align: middle;\n",
       "    }\n",
       "\n",
       "    .dataframe tbody tr th {\n",
       "        vertical-align: top;\n",
       "    }\n",
       "\n",
       "    .dataframe thead th {\n",
       "        text-align: right;\n",
       "    }\n",
       "</style>\n",
       "<table border=\"1\" class=\"dataframe\">\n",
       "  <thead>\n",
       "    <tr style=\"text-align: right;\">\n",
       "      <th></th>\n",
       "      <th>Temperature (°C)</th>\n",
       "      <th>Pressure (kPa)</th>\n",
       "      <th>Temperature x Pressure</th>\n",
       "      <th>Material Fusion Metric</th>\n",
       "      <th>Material Transformation Metric</th>\n",
       "      <th>Quality Rating</th>\n",
       "    </tr>\n",
       "  </thead>\n",
       "  <tbody>\n",
       "    <tr>\n",
       "      <th>0</th>\n",
       "      <td>209.762701</td>\n",
       "      <td>8.050855</td>\n",
       "      <td>1688.769167</td>\n",
       "      <td>44522.217074</td>\n",
       "      <td>9.229576e+06</td>\n",
       "      <td>99.999971</td>\n",
       "    </tr>\n",
       "    <tr>\n",
       "      <th>1</th>\n",
       "      <td>243.037873</td>\n",
       "      <td>15.812068</td>\n",
       "      <td>3842.931469</td>\n",
       "      <td>63020.764997</td>\n",
       "      <td>1.435537e+07</td>\n",
       "      <td>99.985703</td>\n",
       "    </tr>\n",
       "    <tr>\n",
       "      <th>2</th>\n",
       "      <td>220.552675</td>\n",
       "      <td>7.843130</td>\n",
       "      <td>1729.823314</td>\n",
       "      <td>49125.950249</td>\n",
       "      <td>1.072839e+07</td>\n",
       "      <td>99.999758</td>\n",
       "    </tr>\n",
       "    <tr>\n",
       "      <th>3</th>\n",
       "      <td>208.976637</td>\n",
       "      <td>23.786089</td>\n",
       "      <td>4970.736918</td>\n",
       "      <td>57128.881547</td>\n",
       "      <td>9.125702e+06</td>\n",
       "      <td>99.999975</td>\n",
       "    </tr>\n",
       "    <tr>\n",
       "      <th>4</th>\n",
       "      <td>184.730960</td>\n",
       "      <td>15.797812</td>\n",
       "      <td>2918.345014</td>\n",
       "      <td>38068.201283</td>\n",
       "      <td>6.303792e+06</td>\n",
       "      <td>100.000000</td>\n",
       "    </tr>\n",
       "    <tr>\n",
       "      <th>...</th>\n",
       "      <td>...</td>\n",
       "      <td>...</td>\n",
       "      <td>...</td>\n",
       "      <td>...</td>\n",
       "      <td>...</td>\n",
       "      <td>...</td>\n",
       "    </tr>\n",
       "    <tr>\n",
       "      <th>3952</th>\n",
       "      <td>156.811578</td>\n",
       "      <td>21.794290</td>\n",
       "      <td>3417.596965</td>\n",
       "      <td>34941.963896</td>\n",
       "      <td>3.855501e+06</td>\n",
       "      <td>100.000000</td>\n",
       "    </tr>\n",
       "    <tr>\n",
       "      <th>3953</th>\n",
       "      <td>197.850406</td>\n",
       "      <td>8.291704</td>\n",
       "      <td>1640.516924</td>\n",
       "      <td>39714.857236</td>\n",
       "      <td>7.744742e+06</td>\n",
       "      <td>99.999997</td>\n",
       "    </tr>\n",
       "    <tr>\n",
       "      <th>3954</th>\n",
       "      <td>241.357144</td>\n",
       "      <td>16.391910</td>\n",
       "      <td>3956.304672</td>\n",
       "      <td>62657.690952</td>\n",
       "      <td>1.405957e+07</td>\n",
       "      <td>99.989318</td>\n",
       "    </tr>\n",
       "    <tr>\n",
       "      <th>3955</th>\n",
       "      <td>209.040239</td>\n",
       "      <td>23.809936</td>\n",
       "      <td>4977.234763</td>\n",
       "      <td>57195.985528</td>\n",
       "      <td>9.134036e+06</td>\n",
       "      <td>99.999975</td>\n",
       "    </tr>\n",
       "    <tr>\n",
       "      <th>3956</th>\n",
       "      <td>163.359996</td>\n",
       "      <td>24.332133</td>\n",
       "      <td>3974.897121</td>\n",
       "      <td>41092.392901</td>\n",
       "      <td>4.358913e+06</td>\n",
       "      <td>100.000000</td>\n",
       "    </tr>\n",
       "  </tbody>\n",
       "</table>\n",
       "<p>3957 rows × 6 columns</p>\n",
       "</div>"
      ],
      "text/plain": [
       "      Temperature (°C)  Pressure (kPa)  Temperature x Pressure  \\\n",
       "0           209.762701        8.050855             1688.769167   \n",
       "1           243.037873       15.812068             3842.931469   \n",
       "2           220.552675        7.843130             1729.823314   \n",
       "3           208.976637       23.786089             4970.736918   \n",
       "4           184.730960       15.797812             2918.345014   \n",
       "...                ...             ...                     ...   \n",
       "3952        156.811578       21.794290             3417.596965   \n",
       "3953        197.850406        8.291704             1640.516924   \n",
       "3954        241.357144       16.391910             3956.304672   \n",
       "3955        209.040239       23.809936             4977.234763   \n",
       "3956        163.359996       24.332133             3974.897121   \n",
       "\n",
       "      Material Fusion Metric  Material Transformation Metric  Quality Rating  \n",
       "0               44522.217074                    9.229576e+06       99.999971  \n",
       "1               63020.764997                    1.435537e+07       99.985703  \n",
       "2               49125.950249                    1.072839e+07       99.999758  \n",
       "3               57128.881547                    9.125702e+06       99.999975  \n",
       "4               38068.201283                    6.303792e+06      100.000000  \n",
       "...                      ...                             ...             ...  \n",
       "3952            34941.963896                    3.855501e+06      100.000000  \n",
       "3953            39714.857236                    7.744742e+06       99.999997  \n",
       "3954            62657.690952                    1.405957e+07       99.989318  \n",
       "3955            57195.985528                    9.134036e+06       99.999975  \n",
       "3956            41092.392901                    4.358913e+06      100.000000  \n",
       "\n",
       "[3957 rows x 6 columns]"
      ]
     },
     "execution_count": 2,
     "metadata": {},
     "output_type": "execute_result"
    }
   ],
   "source": [
    "import numpy as np\n",
    "import pandas as pd\n",
    "import matplotlib.pyplot as plt\n",
    "import seaborn as sns\n",
    "df=pd.read_csv(\"manufacturing.csv\")\n",
    "df"
   ]
  },
  {
   "cell_type": "code",
   "execution_count": 3,
   "metadata": {},
   "outputs": [
    {
     "data": {
      "text/html": [
       "<div>\n",
       "<style scoped>\n",
       "    .dataframe tbody tr th:only-of-type {\n",
       "        vertical-align: middle;\n",
       "    }\n",
       "\n",
       "    .dataframe tbody tr th {\n",
       "        vertical-align: top;\n",
       "    }\n",
       "\n",
       "    .dataframe thead th {\n",
       "        text-align: right;\n",
       "    }\n",
       "</style>\n",
       "<table border=\"1\" class=\"dataframe\">\n",
       "  <thead>\n",
       "    <tr style=\"text-align: right;\">\n",
       "      <th></th>\n",
       "      <th>Temperature (°C)</th>\n",
       "      <th>Pressure (kPa)</th>\n",
       "      <th>Temperature x Pressure</th>\n",
       "      <th>Material Fusion Metric</th>\n",
       "      <th>Material Transformation Metric</th>\n",
       "      <th>Quality Rating</th>\n",
       "    </tr>\n",
       "  </thead>\n",
       "  <tbody>\n",
       "    <tr>\n",
       "      <th>0</th>\n",
       "      <td>209.762701</td>\n",
       "      <td>8.050855</td>\n",
       "      <td>1688.769167</td>\n",
       "      <td>44522.217074</td>\n",
       "      <td>9.229576e+06</td>\n",
       "      <td>99.999971</td>\n",
       "    </tr>\n",
       "    <tr>\n",
       "      <th>1</th>\n",
       "      <td>243.037873</td>\n",
       "      <td>15.812068</td>\n",
       "      <td>3842.931469</td>\n",
       "      <td>63020.764997</td>\n",
       "      <td>1.435537e+07</td>\n",
       "      <td>99.985703</td>\n",
       "    </tr>\n",
       "    <tr>\n",
       "      <th>2</th>\n",
       "      <td>220.552675</td>\n",
       "      <td>7.843130</td>\n",
       "      <td>1729.823314</td>\n",
       "      <td>49125.950249</td>\n",
       "      <td>1.072839e+07</td>\n",
       "      <td>99.999758</td>\n",
       "    </tr>\n",
       "    <tr>\n",
       "      <th>3</th>\n",
       "      <td>208.976637</td>\n",
       "      <td>23.786089</td>\n",
       "      <td>4970.736918</td>\n",
       "      <td>57128.881547</td>\n",
       "      <td>9.125702e+06</td>\n",
       "      <td>99.999975</td>\n",
       "    </tr>\n",
       "    <tr>\n",
       "      <th>4</th>\n",
       "      <td>184.730960</td>\n",
       "      <td>15.797812</td>\n",
       "      <td>2918.345014</td>\n",
       "      <td>38068.201283</td>\n",
       "      <td>6.303792e+06</td>\n",
       "      <td>100.000000</td>\n",
       "    </tr>\n",
       "  </tbody>\n",
       "</table>\n",
       "</div>"
      ],
      "text/plain": [
       "   Temperature (°C)  Pressure (kPa)  Temperature x Pressure  \\\n",
       "0        209.762701        8.050855             1688.769167   \n",
       "1        243.037873       15.812068             3842.931469   \n",
       "2        220.552675        7.843130             1729.823314   \n",
       "3        208.976637       23.786089             4970.736918   \n",
       "4        184.730960       15.797812             2918.345014   \n",
       "\n",
       "   Material Fusion Metric  Material Transformation Metric  Quality Rating  \n",
       "0            44522.217074                    9.229576e+06       99.999971  \n",
       "1            63020.764997                    1.435537e+07       99.985703  \n",
       "2            49125.950249                    1.072839e+07       99.999758  \n",
       "3            57128.881547                    9.125702e+06       99.999975  \n",
       "4            38068.201283                    6.303792e+06      100.000000  "
      ]
     },
     "execution_count": 3,
     "metadata": {},
     "output_type": "execute_result"
    }
   ],
   "source": [
    "df.head()"
   ]
  },
  {
   "cell_type": "code",
   "execution_count": 4,
   "metadata": {},
   "outputs": [
    {
     "data": {
      "text/html": [
       "<div>\n",
       "<style scoped>\n",
       "    .dataframe tbody tr th:only-of-type {\n",
       "        vertical-align: middle;\n",
       "    }\n",
       "\n",
       "    .dataframe tbody tr th {\n",
       "        vertical-align: top;\n",
       "    }\n",
       "\n",
       "    .dataframe thead th {\n",
       "        text-align: right;\n",
       "    }\n",
       "</style>\n",
       "<table border=\"1\" class=\"dataframe\">\n",
       "  <thead>\n",
       "    <tr style=\"text-align: right;\">\n",
       "      <th></th>\n",
       "      <th>Temperature (°C)</th>\n",
       "      <th>Pressure (kPa)</th>\n",
       "      <th>Temperature x Pressure</th>\n",
       "      <th>Material Fusion Metric</th>\n",
       "      <th>Material Transformation Metric</th>\n",
       "      <th>Quality Rating</th>\n",
       "    </tr>\n",
       "  </thead>\n",
       "  <tbody>\n",
       "    <tr>\n",
       "      <th>3952</th>\n",
       "      <td>156.811578</td>\n",
       "      <td>21.794290</td>\n",
       "      <td>3417.596965</td>\n",
       "      <td>34941.963896</td>\n",
       "      <td>3.855501e+06</td>\n",
       "      <td>100.000000</td>\n",
       "    </tr>\n",
       "    <tr>\n",
       "      <th>3953</th>\n",
       "      <td>197.850406</td>\n",
       "      <td>8.291704</td>\n",
       "      <td>1640.516924</td>\n",
       "      <td>39714.857236</td>\n",
       "      <td>7.744742e+06</td>\n",
       "      <td>99.999997</td>\n",
       "    </tr>\n",
       "    <tr>\n",
       "      <th>3954</th>\n",
       "      <td>241.357144</td>\n",
       "      <td>16.391910</td>\n",
       "      <td>3956.304672</td>\n",
       "      <td>62657.690952</td>\n",
       "      <td>1.405957e+07</td>\n",
       "      <td>99.989318</td>\n",
       "    </tr>\n",
       "    <tr>\n",
       "      <th>3955</th>\n",
       "      <td>209.040239</td>\n",
       "      <td>23.809936</td>\n",
       "      <td>4977.234763</td>\n",
       "      <td>57195.985528</td>\n",
       "      <td>9.134036e+06</td>\n",
       "      <td>99.999975</td>\n",
       "    </tr>\n",
       "    <tr>\n",
       "      <th>3956</th>\n",
       "      <td>163.359996</td>\n",
       "      <td>24.332133</td>\n",
       "      <td>3974.897121</td>\n",
       "      <td>41092.392901</td>\n",
       "      <td>4.358913e+06</td>\n",
       "      <td>100.000000</td>\n",
       "    </tr>\n",
       "  </tbody>\n",
       "</table>\n",
       "</div>"
      ],
      "text/plain": [
       "      Temperature (°C)  Pressure (kPa)  Temperature x Pressure  \\\n",
       "3952        156.811578       21.794290             3417.596965   \n",
       "3953        197.850406        8.291704             1640.516924   \n",
       "3954        241.357144       16.391910             3956.304672   \n",
       "3955        209.040239       23.809936             4977.234763   \n",
       "3956        163.359996       24.332133             3974.897121   \n",
       "\n",
       "      Material Fusion Metric  Material Transformation Metric  Quality Rating  \n",
       "3952            34941.963896                    3.855501e+06      100.000000  \n",
       "3953            39714.857236                    7.744742e+06       99.999997  \n",
       "3954            62657.690952                    1.405957e+07       99.989318  \n",
       "3955            57195.985528                    9.134036e+06       99.999975  \n",
       "3956            41092.392901                    4.358913e+06      100.000000  "
      ]
     },
     "execution_count": 4,
     "metadata": {},
     "output_type": "execute_result"
    }
   ],
   "source": [
    "df.tail()"
   ]
  },
  {
   "cell_type": "code",
   "execution_count": 5,
   "metadata": {},
   "outputs": [
    {
     "data": {
      "text/plain": [
       "Temperature (°C)                  0\n",
       "Pressure (kPa)                    0\n",
       "Temperature x Pressure            0\n",
       "Material Fusion Metric            0\n",
       "Material Transformation Metric    0\n",
       "Quality Rating                    0\n",
       "dtype: int64"
      ]
     },
     "execution_count": 5,
     "metadata": {},
     "output_type": "execute_result"
    }
   ],
   "source": [
    "df.isna().sum()"
   ]
  },
  {
   "cell_type": "code",
   "execution_count": 6,
   "metadata": {},
   "outputs": [
    {
     "data": {
      "text/plain": [
       "Temperature (°C)                  float64\n",
       "Pressure (kPa)                    float64\n",
       "Temperature x Pressure            float64\n",
       "Material Fusion Metric            float64\n",
       "Material Transformation Metric    float64\n",
       "Quality Rating                    float64\n",
       "dtype: object"
      ]
     },
     "execution_count": 6,
     "metadata": {},
     "output_type": "execute_result"
    }
   ],
   "source": [
    "df.dtypes"
   ]
  },
  {
   "cell_type": "code",
   "execution_count": 7,
   "metadata": {},
   "outputs": [],
   "source": [
    "x=df.iloc[:,:-1]\n",
    "y=df.iloc[:,-1]"
   ]
  },
  {
   "cell_type": "code",
   "execution_count": 8,
   "metadata": {},
   "outputs": [
    {
     "data": {
      "text/html": [
       "<div>\n",
       "<style scoped>\n",
       "    .dataframe tbody tr th:only-of-type {\n",
       "        vertical-align: middle;\n",
       "    }\n",
       "\n",
       "    .dataframe tbody tr th {\n",
       "        vertical-align: top;\n",
       "    }\n",
       "\n",
       "    .dataframe thead th {\n",
       "        text-align: right;\n",
       "    }\n",
       "</style>\n",
       "<table border=\"1\" class=\"dataframe\">\n",
       "  <thead>\n",
       "    <tr style=\"text-align: right;\">\n",
       "      <th></th>\n",
       "      <th>Temperature (°C)</th>\n",
       "      <th>Pressure (kPa)</th>\n",
       "      <th>Temperature x Pressure</th>\n",
       "      <th>Material Fusion Metric</th>\n",
       "      <th>Material Transformation Metric</th>\n",
       "    </tr>\n",
       "  </thead>\n",
       "  <tbody>\n",
       "    <tr>\n",
       "      <th>98</th>\n",
       "      <td>265.788006</td>\n",
       "      <td>22.812104</td>\n",
       "      <td>6063.183507</td>\n",
       "      <td>82514.501772</td>\n",
       "      <td>1.877561e+07</td>\n",
       "    </tr>\n",
       "    <tr>\n",
       "      <th>1446</th>\n",
       "      <td>281.579692</td>\n",
       "      <td>10.898344</td>\n",
       "      <td>3068.752215</td>\n",
       "      <td>80581.561347</td>\n",
       "      <td>2.232552e+07</td>\n",
       "    </tr>\n",
       "    <tr>\n",
       "      <th>1525</th>\n",
       "      <td>281.649676</td>\n",
       "      <td>16.711005</td>\n",
       "      <td>4706.649020</td>\n",
       "      <td>83993.216166</td>\n",
       "      <td>2.234201e+07</td>\n",
       "    </tr>\n",
       "    <tr>\n",
       "      <th>40</th>\n",
       "      <td>171.901580</td>\n",
       "      <td>21.600059</td>\n",
       "      <td>3713.084262</td>\n",
       "      <td>39627.931742</td>\n",
       "      <td>5.079251e+06</td>\n",
       "    </tr>\n",
       "    <tr>\n",
       "      <th>3525</th>\n",
       "      <td>212.382292</td>\n",
       "      <td>9.999574</td>\n",
       "      <td>2123.732409</td>\n",
       "      <td>46106.109930</td>\n",
       "      <td>9.579666e+06</td>\n",
       "    </tr>\n",
       "    <tr>\n",
       "      <th>...</th>\n",
       "      <td>...</td>\n",
       "      <td>...</td>\n",
       "      <td>...</td>\n",
       "      <td>...</td>\n",
       "      <td>...</td>\n",
       "    </tr>\n",
       "    <tr>\n",
       "      <th>835</th>\n",
       "      <td>195.876910</td>\n",
       "      <td>11.015577</td>\n",
       "      <td>2157.697202</td>\n",
       "      <td>39704.426320</td>\n",
       "      <td>7.515238e+06</td>\n",
       "    </tr>\n",
       "    <tr>\n",
       "      <th>3264</th>\n",
       "      <td>137.036400</td>\n",
       "      <td>14.808613</td>\n",
       "      <td>2029.319036</td>\n",
       "      <td>22026.430148</td>\n",
       "      <td>2.573184e+06</td>\n",
       "    </tr>\n",
       "    <tr>\n",
       "      <th>1653</th>\n",
       "      <td>205.663025</td>\n",
       "      <td>23.757125</td>\n",
       "      <td>4885.962265</td>\n",
       "      <td>55705.825363</td>\n",
       "      <td>8.698422e+06</td>\n",
       "    </tr>\n",
       "    <tr>\n",
       "      <th>2607</th>\n",
       "      <td>272.433253</td>\n",
       "      <td>8.157178</td>\n",
       "      <td>2222.286575</td>\n",
       "      <td>74762.652564</td>\n",
       "      <td>2.021990e+07</td>\n",
       "    </tr>\n",
       "    <tr>\n",
       "      <th>2732</th>\n",
       "      <td>251.353121</td>\n",
       "      <td>13.812065</td>\n",
       "      <td>3471.705561</td>\n",
       "      <td>65813.362336</td>\n",
       "      <td>1.587990e+07</td>\n",
       "    </tr>\n",
       "  </tbody>\n",
       "</table>\n",
       "<p>2769 rows × 5 columns</p>\n",
       "</div>"
      ],
      "text/plain": [
       "      Temperature (°C)  Pressure (kPa)  Temperature x Pressure  \\\n",
       "98          265.788006       22.812104             6063.183507   \n",
       "1446        281.579692       10.898344             3068.752215   \n",
       "1525        281.649676       16.711005             4706.649020   \n",
       "40          171.901580       21.600059             3713.084262   \n",
       "3525        212.382292        9.999574             2123.732409   \n",
       "...                ...             ...                     ...   \n",
       "835         195.876910       11.015577             2157.697202   \n",
       "3264        137.036400       14.808613             2029.319036   \n",
       "1653        205.663025       23.757125             4885.962265   \n",
       "2607        272.433253        8.157178             2222.286575   \n",
       "2732        251.353121       13.812065             3471.705561   \n",
       "\n",
       "      Material Fusion Metric  Material Transformation Metric  \n",
       "98              82514.501772                    1.877561e+07  \n",
       "1446            80581.561347                    2.232552e+07  \n",
       "1525            83993.216166                    2.234201e+07  \n",
       "40              39627.931742                    5.079251e+06  \n",
       "3525            46106.109930                    9.579666e+06  \n",
       "...                      ...                             ...  \n",
       "835             39704.426320                    7.515238e+06  \n",
       "3264            22026.430148                    2.573184e+06  \n",
       "1653            55705.825363                    8.698422e+06  \n",
       "2607            74762.652564                    2.021990e+07  \n",
       "2732            65813.362336                    1.587990e+07  \n",
       "\n",
       "[2769 rows x 5 columns]"
      ]
     },
     "execution_count": 8,
     "metadata": {},
     "output_type": "execute_result"
    }
   ],
   "source": [
    "from sklearn.model_selection import train_test_split\n",
    "x_train,x_test,y_train,y_test=train_test_split(x,y,test_size=0.30,random_state=0)\n",
    "x_train"
   ]
  },
  {
   "cell_type": "code",
   "execution_count": 9,
   "metadata": {},
   "outputs": [
    {
     "data": {
      "text/plain": [
       "array([102.68707798, 104.99892029,  88.86276693, ...,  73.53442614,\n",
       "       102.93290408,  94.31054566], shape=(1188,))"
      ]
     },
     "execution_count": 9,
     "metadata": {},
     "output_type": "execute_result"
    }
   ],
   "source": [
    "from sklearn.linear_model import LinearRegression\n",
    "model=LinearRegression()\n",
    "model.fit(x_train,y_train)\n",
    "y_pred=model.predict(x_test)\n",
    "y_pred\n"
   ]
  },
  {
   "cell_type": "code",
   "execution_count": 10,
   "metadata": {},
   "outputs": [
    {
     "data": {
      "text/plain": [
       "0.18611194558569422"
      ]
     },
     "execution_count": 10,
     "metadata": {},
     "output_type": "execute_result"
    }
   ],
   "source": [
    "from sklearn.metrics import mean_absolute_percentage_error,r2_score\n",
    "mape=mean_absolute_percentage_error(y_test,y_pred)\n",
    "mape"
   ]
  },
  {
   "cell_type": "code",
   "execution_count": 11,
   "metadata": {},
   "outputs": [
    {
     "data": {
      "text/plain": [
       "0.5232024177259642"
      ]
     },
     "execution_count": 11,
     "metadata": {},
     "output_type": "execute_result"
    }
   ],
   "source": [
    "score=r2_score(y_test,y_pred)\n",
    "score"
   ]
  },
  {
   "cell_type": "code",
   "execution_count": 12,
   "metadata": {},
   "outputs": [
    {
     "data": {
      "text/plain": [
       "array([[1.00000000e+00, 2.65788006e+02, 2.28121035e+01, ...,\n",
       "        1.27836438e+17, 2.90883094e+19, 6.61884633e+21],\n",
       "       [1.00000000e+00, 2.81579692e+02, 1.08983435e+01, ...,\n",
       "        1.44968295e+17, 4.01641916e+19, 1.11276902e+22],\n",
       "       [1.00000000e+00, 2.81649676e+02, 1.67110046e+01, ...,\n",
       "        1.57619796e+17, 4.19265270e+19, 1.11523661e+22],\n",
       "       ...,\n",
       "       [1.00000000e+00, 2.05663025e+02, 2.37571253e+01, ...,\n",
       "        2.69924129e+16, 4.21484470e+18, 6.58144788e+20],\n",
       "       [1.00000000e+00, 2.72433253e+02, 8.15717812e+00, ...,\n",
       "        1.13018184e+17, 3.05662770e+19, 8.26678730e+21],\n",
       "       [1.00000000e+00, 2.51353121e+02, 1.38120647e+01, ...,\n",
       "        6.87821565e+16, 1.65962260e+19, 4.00445013e+21]], shape=(2769, 56))"
      ]
     },
     "execution_count": 12,
     "metadata": {},
     "output_type": "execute_result"
    }
   ],
   "source": [
    "from sklearn.preprocessing import PolynomialFeatures\n",
    "poly=PolynomialFeatures(degree=3)\n",
    "X_train_poly = poly.fit_transform(x_train)\n",
    "X_test_poly = poly.transform(x_test)\n",
    "X_train_poly\n"
   ]
  },
  {
   "cell_type": "code",
   "execution_count": 13,
   "metadata": {},
   "outputs": [
    {
     "data": {
      "text/plain": [
       "array([101.00090797,  99.93463519, 102.8645794 , ...,  43.38734041,\n",
       "       100.79148358, 101.26606946], shape=(1188,))"
      ]
     },
     "execution_count": 13,
     "metadata": {},
     "output_type": "execute_result"
    }
   ],
   "source": [
    "model1=LinearRegression()\n",
    "model1.fit(X_train_poly,y_train)\n",
    "y_pred1=model1.predict(X_test_poly)\n",
    "y_pred1"
   ]
  },
  {
   "cell_type": "code",
   "execution_count": 14,
   "metadata": {},
   "outputs": [
    {
     "name": "stdout",
     "output_type": "stream",
     "text": [
      "0.060617100511875355\n"
     ]
    }
   ],
   "source": [
    "print(mean_absolute_percentage_error(y_test,y_pred1))"
   ]
  },
  {
   "cell_type": "code",
   "execution_count": 15,
   "metadata": {},
   "outputs": [
    {
     "name": "stdout",
     "output_type": "stream",
     "text": [
      "0.9553309967091292\n"
     ]
    }
   ],
   "source": [
    "print(r2_score(y_test,y_pred1))"
   ]
  }
 ],
 "metadata": {
  "kernelspec": {
   "display_name": "Python 3",
   "language": "python",
   "name": "python3"
  },
  "language_info": {
   "codemirror_mode": {
    "name": "ipython",
    "version": 3
   },
   "file_extension": ".py",
   "mimetype": "text/x-python",
   "name": "python",
   "nbconvert_exporter": "python",
   "pygments_lexer": "ipython3",
   "version": "3.13.0"
  }
 },
 "nbformat": 4,
 "nbformat_minor": 2
}
