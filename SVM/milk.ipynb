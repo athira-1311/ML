{
 "cells": [
  {
   "cell_type": "code",
   "execution_count": 2,
   "metadata": {},
   "outputs": [
    {
     "data": {
      "text/html": [
       "<div>\n",
       "<style scoped>\n",
       "    .dataframe tbody tr th:only-of-type {\n",
       "        vertical-align: middle;\n",
       "    }\n",
       "\n",
       "    .dataframe tbody tr th {\n",
       "        vertical-align: top;\n",
       "    }\n",
       "\n",
       "    .dataframe thead th {\n",
       "        text-align: right;\n",
       "    }\n",
       "</style>\n",
       "<table border=\"1\" class=\"dataframe\">\n",
       "  <thead>\n",
       "    <tr style=\"text-align: right;\">\n",
       "      <th></th>\n",
       "      <th>pH</th>\n",
       "      <th>Temprature</th>\n",
       "      <th>Taste</th>\n",
       "      <th>Odor</th>\n",
       "      <th>Fat</th>\n",
       "      <th>Turbidity</th>\n",
       "      <th>Colour</th>\n",
       "      <th>Grade</th>\n",
       "    </tr>\n",
       "  </thead>\n",
       "  <tbody>\n",
       "    <tr>\n",
       "      <th>0</th>\n",
       "      <td>6.6</td>\n",
       "      <td>35</td>\n",
       "      <td>1</td>\n",
       "      <td>0</td>\n",
       "      <td>1</td>\n",
       "      <td>0</td>\n",
       "      <td>254</td>\n",
       "      <td>high</td>\n",
       "    </tr>\n",
       "    <tr>\n",
       "      <th>1</th>\n",
       "      <td>6.6</td>\n",
       "      <td>36</td>\n",
       "      <td>0</td>\n",
       "      <td>1</td>\n",
       "      <td>0</td>\n",
       "      <td>1</td>\n",
       "      <td>253</td>\n",
       "      <td>high</td>\n",
       "    </tr>\n",
       "    <tr>\n",
       "      <th>2</th>\n",
       "      <td>8.5</td>\n",
       "      <td>70</td>\n",
       "      <td>1</td>\n",
       "      <td>1</td>\n",
       "      <td>1</td>\n",
       "      <td>1</td>\n",
       "      <td>246</td>\n",
       "      <td>low</td>\n",
       "    </tr>\n",
       "    <tr>\n",
       "      <th>3</th>\n",
       "      <td>9.5</td>\n",
       "      <td>34</td>\n",
       "      <td>1</td>\n",
       "      <td>1</td>\n",
       "      <td>0</td>\n",
       "      <td>1</td>\n",
       "      <td>255</td>\n",
       "      <td>low</td>\n",
       "    </tr>\n",
       "    <tr>\n",
       "      <th>4</th>\n",
       "      <td>6.6</td>\n",
       "      <td>37</td>\n",
       "      <td>0</td>\n",
       "      <td>0</td>\n",
       "      <td>0</td>\n",
       "      <td>0</td>\n",
       "      <td>255</td>\n",
       "      <td>medium</td>\n",
       "    </tr>\n",
       "    <tr>\n",
       "      <th>...</th>\n",
       "      <td>...</td>\n",
       "      <td>...</td>\n",
       "      <td>...</td>\n",
       "      <td>...</td>\n",
       "      <td>...</td>\n",
       "      <td>...</td>\n",
       "      <td>...</td>\n",
       "      <td>...</td>\n",
       "    </tr>\n",
       "    <tr>\n",
       "      <th>1054</th>\n",
       "      <td>6.7</td>\n",
       "      <td>45</td>\n",
       "      <td>1</td>\n",
       "      <td>1</td>\n",
       "      <td>0</td>\n",
       "      <td>0</td>\n",
       "      <td>247</td>\n",
       "      <td>medium</td>\n",
       "    </tr>\n",
       "    <tr>\n",
       "      <th>1055</th>\n",
       "      <td>6.7</td>\n",
       "      <td>38</td>\n",
       "      <td>1</td>\n",
       "      <td>0</td>\n",
       "      <td>1</td>\n",
       "      <td>0</td>\n",
       "      <td>255</td>\n",
       "      <td>high</td>\n",
       "    </tr>\n",
       "    <tr>\n",
       "      <th>1056</th>\n",
       "      <td>3.0</td>\n",
       "      <td>40</td>\n",
       "      <td>1</td>\n",
       "      <td>1</td>\n",
       "      <td>1</td>\n",
       "      <td>1</td>\n",
       "      <td>255</td>\n",
       "      <td>low</td>\n",
       "    </tr>\n",
       "    <tr>\n",
       "      <th>1057</th>\n",
       "      <td>6.8</td>\n",
       "      <td>43</td>\n",
       "      <td>1</td>\n",
       "      <td>0</td>\n",
       "      <td>1</td>\n",
       "      <td>0</td>\n",
       "      <td>250</td>\n",
       "      <td>high</td>\n",
       "    </tr>\n",
       "    <tr>\n",
       "      <th>1058</th>\n",
       "      <td>8.6</td>\n",
       "      <td>55</td>\n",
       "      <td>0</td>\n",
       "      <td>1</td>\n",
       "      <td>1</td>\n",
       "      <td>1</td>\n",
       "      <td>255</td>\n",
       "      <td>low</td>\n",
       "    </tr>\n",
       "  </tbody>\n",
       "</table>\n",
       "<p>1059 rows × 8 columns</p>\n",
       "</div>"
      ],
      "text/plain": [
       "       pH  Temprature  Taste  Odor  Fat   Turbidity  Colour   Grade\n",
       "0     6.6          35      1     0     1          0     254    high\n",
       "1     6.6          36      0     1     0          1     253    high\n",
       "2     8.5          70      1     1     1          1     246     low\n",
       "3     9.5          34      1     1     0          1     255     low\n",
       "4     6.6          37      0     0     0          0     255  medium\n",
       "...   ...         ...    ...   ...   ...        ...     ...     ...\n",
       "1054  6.7          45      1     1     0          0     247  medium\n",
       "1055  6.7          38      1     0     1          0     255    high\n",
       "1056  3.0          40      1     1     1          1     255     low\n",
       "1057  6.8          43      1     0     1          0     250    high\n",
       "1058  8.6          55      0     1     1          1     255     low\n",
       "\n",
       "[1059 rows x 8 columns]"
      ]
     },
     "execution_count": 2,
     "metadata": {},
     "output_type": "execute_result"
    }
   ],
   "source": [
    "import numpy as np\n",
    "import pandas as pd\n",
    "df=pd.read_csv(\"milknew.csv\")\n",
    "df"
   ]
  },
  {
   "cell_type": "code",
   "execution_count": 3,
   "metadata": {},
   "outputs": [
    {
     "data": {
      "text/html": [
       "<div>\n",
       "<style scoped>\n",
       "    .dataframe tbody tr th:only-of-type {\n",
       "        vertical-align: middle;\n",
       "    }\n",
       "\n",
       "    .dataframe tbody tr th {\n",
       "        vertical-align: top;\n",
       "    }\n",
       "\n",
       "    .dataframe thead th {\n",
       "        text-align: right;\n",
       "    }\n",
       "</style>\n",
       "<table border=\"1\" class=\"dataframe\">\n",
       "  <thead>\n",
       "    <tr style=\"text-align: right;\">\n",
       "      <th></th>\n",
       "      <th>pH</th>\n",
       "      <th>Temprature</th>\n",
       "      <th>Taste</th>\n",
       "      <th>Odor</th>\n",
       "      <th>Fat</th>\n",
       "      <th>Turbidity</th>\n",
       "      <th>Colour</th>\n",
       "      <th>Grade</th>\n",
       "    </tr>\n",
       "  </thead>\n",
       "  <tbody>\n",
       "    <tr>\n",
       "      <th>0</th>\n",
       "      <td>6.6</td>\n",
       "      <td>35</td>\n",
       "      <td>1</td>\n",
       "      <td>0</td>\n",
       "      <td>1</td>\n",
       "      <td>0</td>\n",
       "      <td>254</td>\n",
       "      <td>high</td>\n",
       "    </tr>\n",
       "    <tr>\n",
       "      <th>1</th>\n",
       "      <td>6.6</td>\n",
       "      <td>36</td>\n",
       "      <td>0</td>\n",
       "      <td>1</td>\n",
       "      <td>0</td>\n",
       "      <td>1</td>\n",
       "      <td>253</td>\n",
       "      <td>high</td>\n",
       "    </tr>\n",
       "    <tr>\n",
       "      <th>2</th>\n",
       "      <td>8.5</td>\n",
       "      <td>70</td>\n",
       "      <td>1</td>\n",
       "      <td>1</td>\n",
       "      <td>1</td>\n",
       "      <td>1</td>\n",
       "      <td>246</td>\n",
       "      <td>low</td>\n",
       "    </tr>\n",
       "    <tr>\n",
       "      <th>3</th>\n",
       "      <td>9.5</td>\n",
       "      <td>34</td>\n",
       "      <td>1</td>\n",
       "      <td>1</td>\n",
       "      <td>0</td>\n",
       "      <td>1</td>\n",
       "      <td>255</td>\n",
       "      <td>low</td>\n",
       "    </tr>\n",
       "    <tr>\n",
       "      <th>4</th>\n",
       "      <td>6.6</td>\n",
       "      <td>37</td>\n",
       "      <td>0</td>\n",
       "      <td>0</td>\n",
       "      <td>0</td>\n",
       "      <td>0</td>\n",
       "      <td>255</td>\n",
       "      <td>medium</td>\n",
       "    </tr>\n",
       "  </tbody>\n",
       "</table>\n",
       "</div>"
      ],
      "text/plain": [
       "    pH  Temprature  Taste  Odor  Fat   Turbidity  Colour   Grade\n",
       "0  6.6          35      1     0     1          0     254    high\n",
       "1  6.6          36      0     1     0          1     253    high\n",
       "2  8.5          70      1     1     1          1     246     low\n",
       "3  9.5          34      1     1     0          1     255     low\n",
       "4  6.6          37      0     0     0          0     255  medium"
      ]
     },
     "execution_count": 3,
     "metadata": {},
     "output_type": "execute_result"
    }
   ],
   "source": [
    "df.head()"
   ]
  },
  {
   "cell_type": "code",
   "execution_count": 4,
   "metadata": {},
   "outputs": [
    {
     "data": {
      "text/html": [
       "<div>\n",
       "<style scoped>\n",
       "    .dataframe tbody tr th:only-of-type {\n",
       "        vertical-align: middle;\n",
       "    }\n",
       "\n",
       "    .dataframe tbody tr th {\n",
       "        vertical-align: top;\n",
       "    }\n",
       "\n",
       "    .dataframe thead th {\n",
       "        text-align: right;\n",
       "    }\n",
       "</style>\n",
       "<table border=\"1\" class=\"dataframe\">\n",
       "  <thead>\n",
       "    <tr style=\"text-align: right;\">\n",
       "      <th></th>\n",
       "      <th>pH</th>\n",
       "      <th>Temprature</th>\n",
       "      <th>Taste</th>\n",
       "      <th>Odor</th>\n",
       "      <th>Fat</th>\n",
       "      <th>Turbidity</th>\n",
       "      <th>Colour</th>\n",
       "      <th>Grade</th>\n",
       "    </tr>\n",
       "  </thead>\n",
       "  <tbody>\n",
       "    <tr>\n",
       "      <th>1054</th>\n",
       "      <td>6.7</td>\n",
       "      <td>45</td>\n",
       "      <td>1</td>\n",
       "      <td>1</td>\n",
       "      <td>0</td>\n",
       "      <td>0</td>\n",
       "      <td>247</td>\n",
       "      <td>medium</td>\n",
       "    </tr>\n",
       "    <tr>\n",
       "      <th>1055</th>\n",
       "      <td>6.7</td>\n",
       "      <td>38</td>\n",
       "      <td>1</td>\n",
       "      <td>0</td>\n",
       "      <td>1</td>\n",
       "      <td>0</td>\n",
       "      <td>255</td>\n",
       "      <td>high</td>\n",
       "    </tr>\n",
       "    <tr>\n",
       "      <th>1056</th>\n",
       "      <td>3.0</td>\n",
       "      <td>40</td>\n",
       "      <td>1</td>\n",
       "      <td>1</td>\n",
       "      <td>1</td>\n",
       "      <td>1</td>\n",
       "      <td>255</td>\n",
       "      <td>low</td>\n",
       "    </tr>\n",
       "    <tr>\n",
       "      <th>1057</th>\n",
       "      <td>6.8</td>\n",
       "      <td>43</td>\n",
       "      <td>1</td>\n",
       "      <td>0</td>\n",
       "      <td>1</td>\n",
       "      <td>0</td>\n",
       "      <td>250</td>\n",
       "      <td>high</td>\n",
       "    </tr>\n",
       "    <tr>\n",
       "      <th>1058</th>\n",
       "      <td>8.6</td>\n",
       "      <td>55</td>\n",
       "      <td>0</td>\n",
       "      <td>1</td>\n",
       "      <td>1</td>\n",
       "      <td>1</td>\n",
       "      <td>255</td>\n",
       "      <td>low</td>\n",
       "    </tr>\n",
       "  </tbody>\n",
       "</table>\n",
       "</div>"
      ],
      "text/plain": [
       "       pH  Temprature  Taste  Odor  Fat   Turbidity  Colour   Grade\n",
       "1054  6.7          45      1     1     0          0     247  medium\n",
       "1055  6.7          38      1     0     1          0     255    high\n",
       "1056  3.0          40      1     1     1          1     255     low\n",
       "1057  6.8          43      1     0     1          0     250    high\n",
       "1058  8.6          55      0     1     1          1     255     low"
      ]
     },
     "execution_count": 4,
     "metadata": {},
     "output_type": "execute_result"
    }
   ],
   "source": [
    "df.tail()"
   ]
  },
  {
   "cell_type": "code",
   "execution_count": 5,
   "metadata": {},
   "outputs": [
    {
     "data": {
      "text/plain": [
       "(1059, 8)"
      ]
     },
     "execution_count": 5,
     "metadata": {},
     "output_type": "execute_result"
    }
   ],
   "source": [
    "df.shape"
   ]
  },
  {
   "cell_type": "code",
   "execution_count": 6,
   "metadata": {},
   "outputs": [
    {
     "data": {
      "text/plain": [
       "pH            float64\n",
       "Temprature      int64\n",
       "Taste           int64\n",
       "Odor            int64\n",
       "Fat             int64\n",
       "Turbidity       int64\n",
       "Colour          int64\n",
       "Grade          object\n",
       "dtype: object"
      ]
     },
     "execution_count": 6,
     "metadata": {},
     "output_type": "execute_result"
    }
   ],
   "source": [
    "df.dtypes"
   ]
  },
  {
   "cell_type": "code",
   "execution_count": 7,
   "metadata": {},
   "outputs": [
    {
     "data": {
      "text/plain": [
       "Index(['pH', 'Temprature', 'Taste', 'Odor', 'Fat ', 'Turbidity', 'Colour',\n",
       "       'Grade'],\n",
       "      dtype='object')"
      ]
     },
     "execution_count": 7,
     "metadata": {},
     "output_type": "execute_result"
    }
   ],
   "source": [
    "df.columns"
   ]
  },
  {
   "cell_type": "code",
   "execution_count": 8,
   "metadata": {},
   "outputs": [
    {
     "data": {
      "text/plain": [
       "pH            0\n",
       "Temprature    0\n",
       "Taste         0\n",
       "Odor          0\n",
       "Fat           0\n",
       "Turbidity     0\n",
       "Colour        0\n",
       "Grade         0\n",
       "dtype: int64"
      ]
     },
     "execution_count": 8,
     "metadata": {},
     "output_type": "execute_result"
    }
   ],
   "source": [
    "df.isna().sum()"
   ]
  },
  {
   "cell_type": "code",
   "execution_count": 9,
   "metadata": {},
   "outputs": [],
   "source": [
    "x=df.iloc[:,:-1].values\n",
    "y=df.iloc[:,-1].values"
   ]
  },
  {
   "cell_type": "code",
   "execution_count": 10,
   "metadata": {},
   "outputs": [
    {
     "data": {
      "text/plain": [
       "array([[  6.6,  43. ,   0. , ...,   1. ,   0. , 250. ],\n",
       "       [  6.5,  38. ,   1. , ...,   0. ,   0. , 255. ],\n",
       "       [  6.6,  37. ,   1. , ...,   1. ,   1. , 255. ],\n",
       "       ...,\n",
       "       [  4.7,  38. ,   1. , ...,   1. ,   0. , 255. ],\n",
       "       [  9. ,  43. ,   1. , ...,   1. ,   1. , 250. ],\n",
       "       [  6.5,  38. ,   1. , ...,   0. ,   0. , 255. ]], shape=(741, 7))"
      ]
     },
     "execution_count": 10,
     "metadata": {},
     "output_type": "execute_result"
    }
   ],
   "source": [
    "from sklearn.model_selection import train_test_split\n",
    "x_train,x_test,y_train,y_test=train_test_split(x,y,test_size=0.30,random_state=0)\n",
    "x_train"
   ]
  },
  {
   "cell_type": "code",
   "execution_count": 11,
   "metadata": {},
   "outputs": [
    {
     "data": {
      "text/plain": [
       "array([[  6.6,  37. ,   1. , ...,   1. ,   1. , 255. ],\n",
       "       [  9. ,  43. ,   1. , ...,   1. ,   1. , 250. ],\n",
       "       [  6.8,  45. ,   0. , ...,   0. ,   1. , 255. ],\n",
       "       ...,\n",
       "       [  7.4,  90. ,   1. , ...,   1. ,   1. , 255. ],\n",
       "       [  6.8,  45. ,   0. , ...,   1. ,   1. , 255. ],\n",
       "       [  5.5,  45. ,   1. , ...,   1. ,   1. , 250. ]], shape=(318, 7))"
      ]
     },
     "execution_count": 11,
     "metadata": {},
     "output_type": "execute_result"
    }
   ],
   "source": [
    "x_test"
   ]
  },
  {
   "cell_type": "code",
   "execution_count": 12,
   "metadata": {},
   "outputs": [
    {
     "data": {
      "text/plain": [
       "array(['high', 'low', 'medium', 'low', 'high', 'medium', 'low', 'high',\n",
       "       'high', 'medium', 'low', 'high', 'medium', 'medium', 'high', 'low',\n",
       "       'high', 'high', 'high', 'low', 'high', 'low', 'medium', 'high',\n",
       "       'high', 'low', 'high', 'high', 'low', 'medium', 'high', 'low',\n",
       "       'low', 'medium', 'high', 'high', 'low', 'high', 'high', 'low',\n",
       "       'high', 'medium', 'high', 'low', 'medium', 'low', 'high', 'low',\n",
       "       'medium', 'low', 'high', 'medium', 'medium', 'medium', 'low',\n",
       "       'medium', 'medium', 'low', 'medium', 'low', 'medium', 'low',\n",
       "       'medium', 'high', 'low', 'medium', 'low', 'medium', 'medium',\n",
       "       'high', 'high', 'medium', 'medium', 'high', 'medium', 'medium',\n",
       "       'medium', 'low', 'high', 'medium', 'low', 'medium', 'medium',\n",
       "       'low', 'medium', 'medium', 'high', 'low', 'low', 'low', 'medium',\n",
       "       'high', 'medium', 'low', 'high', 'medium', 'low', 'high', 'medium',\n",
       "       'medium', 'high', 'medium', 'low', 'medium', 'high', 'high',\n",
       "       'high', 'high', 'low', 'low', 'high', 'high', 'high', 'high',\n",
       "       'low', 'medium', 'low', 'high', 'medium', 'high', 'medium',\n",
       "       'medium', 'low', 'high', 'high', 'low', 'low', 'low', 'medium',\n",
       "       'high', 'low', 'medium', 'low', 'medium', 'high', 'medium',\n",
       "       'medium', 'medium', 'medium', 'low', 'medium', 'high', 'low',\n",
       "       'low', 'medium', 'high', 'low', 'low', 'low', 'high', 'low',\n",
       "       'medium', 'medium', 'low', 'high', 'high', 'medium', 'medium',\n",
       "       'medium', 'medium', 'medium', 'medium', 'low', 'medium', 'medium',\n",
       "       'high', 'high', 'low', 'high', 'medium', 'low', 'low', 'medium',\n",
       "       'high', 'high', 'low', 'high', 'high', 'high', 'medium', 'medium',\n",
       "       'low', 'low', 'low', 'low', 'high', 'medium', 'high', 'low', 'low',\n",
       "       'high', 'low', 'low', 'low', 'medium', 'low', 'medium', 'medium',\n",
       "       'high', 'medium', 'low', 'high', 'medium', 'low', 'medium',\n",
       "       'medium', 'low', 'medium', 'medium', 'low', 'high', 'medium',\n",
       "       'medium', 'medium', 'medium', 'medium', 'high', 'medium', 'high',\n",
       "       'low', 'high', 'high', 'medium', 'high', 'medium', 'low', 'low',\n",
       "       'medium', 'high', 'high', 'high', 'low', 'low', 'high', 'low',\n",
       "       'medium', 'low', 'low', 'low', 'high', 'low', 'high', 'low',\n",
       "       'medium', 'high', 'low', 'medium', 'medium', 'low', 'low',\n",
       "       'medium', 'low', 'high', 'low', 'low', 'low', 'high', 'low',\n",
       "       'high', 'low', 'low', 'medium', 'medium', 'low', 'medium',\n",
       "       'medium', 'low', 'medium', 'medium', 'medium', 'medium', 'medium',\n",
       "       'low', 'low', 'low', 'high', 'medium', 'low', 'low', 'medium',\n",
       "       'medium', 'low', 'low', 'high', 'low', 'medium', 'high', 'medium',\n",
       "       'medium', 'medium', 'low', 'medium', 'low', 'low', 'low', 'low',\n",
       "       'low', 'low', 'low', 'low', 'medium', 'medium', 'low', 'medium',\n",
       "       'medium', 'medium', 'medium', 'low', 'medium', 'medium', 'medium',\n",
       "       'low', 'low', 'low', 'high', 'low', 'high', 'low'], dtype=object)"
      ]
     },
     "execution_count": 12,
     "metadata": {},
     "output_type": "execute_result"
    }
   ],
   "source": [
    "y_test"
   ]
  },
  {
   "cell_type": "code",
   "execution_count": 13,
   "metadata": {},
   "outputs": [
    {
     "data": {
      "text/plain": [
       "array(['medium', 'medium', 'high', 'low', 'low', 'medium', 'medium',\n",
       "       'high', 'low', 'high', 'low', 'low', 'high', 'low', 'medium',\n",
       "       'low', 'medium', 'high', 'medium', 'medium', 'low', 'low',\n",
       "       'medium', 'high', 'low', 'low', 'high', 'medium', 'high', 'low',\n",
       "       'low', 'low', 'high', 'medium', 'medium', 'low', 'medium',\n",
       "       'medium', 'high', 'low', 'low', 'low', 'low', 'high', 'high',\n",
       "       'high', 'low', 'medium', 'low', 'medium', 'medium', 'medium',\n",
       "       'high', 'medium', 'low', 'high', 'medium', 'medium', 'low', 'high',\n",
       "       'medium', 'high', 'medium', 'low', 'low', 'medium', 'low', 'low',\n",
       "       'low', 'medium', 'medium', 'low', 'medium', 'high', 'low', 'low',\n",
       "       'medium', 'low', 'low', 'low', 'low', 'medium', 'medium', 'medium',\n",
       "       'medium', 'high', 'medium', 'low', 'medium', 'low', 'high',\n",
       "       'medium', 'low', 'low', 'medium', 'low', 'high', 'medium', 'low',\n",
       "       'low', 'low', 'medium', 'low', 'medium', 'low', 'medium', 'medium',\n",
       "       'low', 'low', 'low', 'high', 'medium', 'medium', 'low', 'high',\n",
       "       'low', 'medium', 'high', 'low', 'low', 'low', 'low', 'medium',\n",
       "       'high', 'low', 'medium', 'medium', 'medium', 'medium', 'high',\n",
       "       'high', 'low', 'low', 'medium', 'low', 'low', 'medium', 'high',\n",
       "       'low', 'low', 'high', 'high', 'medium', 'high', 'high', 'low',\n",
       "       'high', 'low', 'high', 'low', 'medium', 'low', 'medium', 'low',\n",
       "       'high', 'medium', 'low', 'low', 'low', 'low', 'low', 'high', 'low',\n",
       "       'high', 'medium', 'low', 'low', 'medium', 'low', 'low', 'high',\n",
       "       'medium', 'medium', 'medium', 'medium', 'high', 'low', 'medium',\n",
       "       'low', 'high', 'high', 'high', 'high', 'high', 'low', 'low', 'low',\n",
       "       'medium', 'high', 'low', 'high', 'low', 'high', 'medium', 'medium',\n",
       "       'medium', 'low', 'medium', 'medium', 'low', 'high', 'medium',\n",
       "       'medium', 'medium', 'medium', 'high', 'low', 'high', 'low', 'high',\n",
       "       'low', 'low', 'low', 'low', 'medium', 'medium', 'low', 'low',\n",
       "       'low', 'medium', 'high', 'medium', 'high', 'low', 'low', 'medium',\n",
       "       'high', 'low', 'medium', 'low', 'high', 'low', 'high', 'medium',\n",
       "       'medium', 'low', 'medium', 'high', 'high', 'high', 'low', 'low',\n",
       "       'low', 'medium', 'low', 'high', 'low', 'medium', 'high', 'low',\n",
       "       'high', 'medium', 'high', 'low', 'low', 'low', 'high', 'low',\n",
       "       'medium', 'medium', 'low', 'low', 'low', 'medium', 'low', 'low',\n",
       "       'medium', 'high', 'high', 'medium', 'low', 'low', 'medium',\n",
       "       'medium', 'high', 'low', 'low', 'low', 'high', 'high', 'medium',\n",
       "       'medium', 'low', 'high', 'low', 'medium', 'medium', 'low', 'low',\n",
       "       'low', 'high', 'medium', 'medium', 'low', 'low', 'medium', 'high',\n",
       "       'medium', 'low', 'low', 'low', 'low', 'low', 'high', 'low',\n",
       "       'medium', 'high', 'low', 'low', 'low', 'low', 'medium', 'high',\n",
       "       'low', 'low', 'low', 'medium', 'high', 'high', 'medium', 'medium',\n",
       "       'medium', 'high', 'medium', 'low', 'medium', 'low', 'low', 'high',\n",
       "       'high', 'high', 'high', 'medium', 'low', 'medium', 'medium',\n",
       "       'medium', 'medium', 'high', 'high', 'low', 'low', 'low', 'medium',\n",
       "       'medium', 'medium', 'medium', 'high', 'medium', 'low', 'low',\n",
       "       'low', 'medium', 'medium', 'low', 'high', 'low', 'high', 'medium',\n",
       "       'low', 'medium', 'low', 'low', 'low', 'low', 'low', 'high', 'high',\n",
       "       'medium', 'medium', 'low', 'medium', 'high', 'low', 'low', 'low',\n",
       "       'low', 'low', 'medium', 'medium', 'medium', 'high', 'low',\n",
       "       'medium', 'low', 'medium', 'medium', 'low', 'high', 'low', 'low',\n",
       "       'low', 'low', 'medium', 'medium', 'low', 'medium', 'medium', 'low',\n",
       "       'low', 'medium', 'low', 'low', 'medium', 'low', 'low', 'medium',\n",
       "       'medium', 'high', 'low', 'high', 'medium', 'low', 'medium', 'high',\n",
       "       'low', 'low', 'low', 'low', 'low', 'medium', 'medium', 'medium',\n",
       "       'high', 'low', 'medium', 'low', 'low', 'medium', 'low', 'low',\n",
       "       'high', 'medium', 'low', 'high', 'high', 'high', 'high', 'medium',\n",
       "       'low', 'medium', 'low', 'low', 'low', 'medium', 'low', 'low',\n",
       "       'high', 'low', 'medium', 'low', 'low', 'low', 'medium', 'low',\n",
       "       'medium', 'high', 'medium', 'medium', 'high', 'high', 'medium',\n",
       "       'low', 'medium', 'low', 'high', 'low', 'medium', 'high', 'medium',\n",
       "       'low', 'medium', 'medium', 'low', 'low', 'medium', 'medium',\n",
       "       'medium', 'high', 'medium', 'medium', 'low', 'medium', 'low',\n",
       "       'low', 'low', 'low', 'high', 'medium', 'low', 'high', 'low',\n",
       "       'high', 'medium', 'low', 'low', 'high', 'low', 'high', 'medium',\n",
       "       'high', 'medium', 'high', 'medium', 'low', 'medium', 'low',\n",
       "       'medium', 'medium', 'low', 'high', 'medium', 'low', 'medium',\n",
       "       'high', 'high', 'low', 'low', 'low', 'low', 'high', 'low', 'low',\n",
       "       'high', 'high', 'high', 'high', 'low', 'medium', 'low', 'high',\n",
       "       'medium', 'high', 'low', 'medium', 'low', 'medium', 'high', 'low',\n",
       "       'low', 'high', 'low', 'high', 'low', 'medium', 'medium', 'medium',\n",
       "       'high', 'high', 'low', 'low', 'low', 'low', 'low', 'low', 'low',\n",
       "       'low', 'low', 'low', 'low', 'low', 'medium', 'medium', 'medium',\n",
       "       'low', 'low', 'high', 'high', 'high', 'medium', 'low', 'low',\n",
       "       'high', 'low', 'low', 'medium', 'medium', 'low', 'low', 'low',\n",
       "       'low', 'medium', 'medium', 'medium', 'medium', 'medium', 'high',\n",
       "       'high', 'medium', 'high', 'low', 'low', 'medium', 'high', 'medium',\n",
       "       'medium', 'low', 'medium', 'low', 'low', 'low', 'medium', 'medium',\n",
       "       'medium', 'low', 'medium', 'low', 'high', 'medium', 'high', 'high',\n",
       "       'medium', 'low', 'medium', 'high', 'medium', 'high', 'low', 'low',\n",
       "       'high', 'medium', 'low', 'medium', 'high', 'low', 'medium',\n",
       "       'medium', 'medium', 'medium', 'high', 'medium', 'medium', 'medium',\n",
       "       'medium', 'medium', 'medium', 'medium', 'low', 'high', 'low',\n",
       "       'high', 'medium', 'medium', 'medium', 'high', 'high', 'medium',\n",
       "       'high', 'high', 'high', 'high', 'low', 'medium', 'low', 'low',\n",
       "       'high', 'high', 'high', 'high', 'low', 'medium', 'low', 'medium',\n",
       "       'medium', 'medium', 'low', 'medium', 'low', 'low', 'low', 'medium',\n",
       "       'medium', 'medium', 'low', 'medium', 'medium', 'high', 'low',\n",
       "       'low', 'low', 'high', 'medium', 'low', 'medium', 'medium', 'low',\n",
       "       'high', 'low', 'low', 'high', 'medium', 'high', 'high', 'medium',\n",
       "       'low', 'low', 'low', 'high', 'high', 'medium', 'low', 'low', 'low',\n",
       "       'medium', 'low', 'medium', 'medium', 'high', 'low', 'medium',\n",
       "       'medium', 'medium', 'medium', 'low', 'medium', 'medium', 'medium',\n",
       "       'low', 'low', 'high', 'low', 'medium', 'medium', 'low', 'high',\n",
       "       'low', 'low', 'medium', 'low', 'low', 'low', 'low', 'medium',\n",
       "       'medium', 'low', 'high', 'medium', 'low', 'low', 'low', 'medium'],\n",
       "      dtype=object)"
      ]
     },
     "execution_count": 13,
     "metadata": {},
     "output_type": "execute_result"
    }
   ],
   "source": [
    "y_train"
   ]
  },
  {
   "cell_type": "code",
   "execution_count": 14,
   "metadata": {},
   "outputs": [],
   "source": [
    "from sklearn.preprocessing import StandardScaler\n",
    "scaler=StandardScaler()\n",
    "scaler.fit(x_train)\n",
    "x_train=scaler.transform(x_train)\n",
    "x_test=scaler.transform(x_test)"
   ]
  },
  {
   "cell_type": "code",
   "execution_count": 15,
   "metadata": {},
   "outputs": [],
   "source": [
    "from sklearn.neighbors import KNeighborsClassifier\n",
    "from sklearn.naive_bayes import GaussianNB\n",
    "from sklearn.svm import SVC\n",
    "from sklearn.metrics import confusion_matrix,accuracy_score,classification_report,ConfusionMatrixDisplay\n",
    "knn=KNeighborsClassifier(n_neighbors=7)\n",
    "naive=GaussianNB()\n",
    "supp=SVC()\n",
    "model=[knn,naive,supp]\n",
    "\n"
   ]
  },
  {
   "cell_type": "code",
   "execution_count": 16,
   "metadata": {},
   "outputs": [
    {
     "name": "stdout",
     "output_type": "stream",
     "text": [
      "Model name: KNeighborsClassifier(n_neighbors=7)\n",
      "---------------------------------------------\n",
      "[[ 79   0   7]\n",
      " [  2 112   2]\n",
      " [  0   1 115]]\n",
      "----------------------------------------------\n",
      "----------------------------------------------\n",
      "0.9622641509433962\n",
      "----------------------------------------------\n",
      "              precision    recall  f1-score   support\n",
      "\n",
      "        high       0.98      0.92      0.95        86\n",
      "         low       0.99      0.97      0.98       116\n",
      "      medium       0.93      0.99      0.96       116\n",
      "\n",
      "    accuracy                           0.96       318\n",
      "   macro avg       0.96      0.96      0.96       318\n",
      "weighted avg       0.96      0.96      0.96       318\n",
      "\n",
      "Model name: GaussianNB()\n",
      "---------------------------------------------\n",
      "[[ 85   1   0]\n",
      " [  6 108   2]\n",
      " [ 52   0  64]]\n",
      "----------------------------------------------\n",
      "----------------------------------------------\n",
      "0.8081761006289309\n",
      "----------------------------------------------\n",
      "              precision    recall  f1-score   support\n",
      "\n",
      "        high       0.59      0.99      0.74        86\n",
      "         low       0.99      0.93      0.96       116\n",
      "      medium       0.97      0.55      0.70       116\n",
      "\n",
      "    accuracy                           0.81       318\n",
      "   macro avg       0.85      0.82      0.80       318\n",
      "weighted avg       0.88      0.81      0.81       318\n",
      "\n",
      "Model name: SVC()\n",
      "---------------------------------------------\n",
      "[[ 85   0   1]\n",
      " [  4 111   1]\n",
      " [ 16   0 100]]\n",
      "----------------------------------------------\n",
      "----------------------------------------------\n",
      "0.9308176100628931\n",
      "----------------------------------------------\n",
      "              precision    recall  f1-score   support\n",
      "\n",
      "        high       0.81      0.99      0.89        86\n",
      "         low       1.00      0.96      0.98       116\n",
      "      medium       0.98      0.86      0.92       116\n",
      "\n",
      "    accuracy                           0.93       318\n",
      "   macro avg       0.93      0.94      0.93       318\n",
      "weighted avg       0.94      0.93      0.93       318\n",
      "\n"
     ]
    },
    {
     "data": {
      "image/png": "[encoded data removed]",
      "text/plain": [
       "<Figure size 640x480 with 2 Axes>"
      ]
     },
     "metadata": {},
     "output_type": "display_data"
    },
    {
     "data": {
      "image/png": "[encoded data removed]",
      "text/plain": [
       "<Figure size 640x480 with 2 Axes>"
      ]
     },
     "metadata": {},
     "output_type": "display_data"
    },
    {
     "data": {
      "image/png": "[encoded data removed]",
      "text/plain": [
       "<Figure size 640x480 with 2 Axes>"
      ]
     },
     "metadata": {},
     "output_type": "display_data"
    }
   ],
   "source": [
    "for i in model:\n",
    "    print(\"Model name:\",i)\n",
    "    i.fit(x_train,y_train)\n",
    "    y_pred=i.predict(x_test)\n",
    "    print(\"---------------------------------------------\")\n",
    "    cm=confusion_matrix(y_test,y_pred)\n",
    "    print(cm)\n",
    "    print(\"----------------------------------------------\")\n",
    "    label=['medium', 'high', 'low']\n",
    "    cd=ConfusionMatrixDisplay(cm,display_labels=label)\n",
    "    cd.plot()\n",
    "    print(\"----------------------------------------------\")\n",
    "    score=accuracy_score(y_test,y_pred)\n",
    "    print(score)\n",
    "    print(\"----------------------------------------------\")\n",
    "    cr=classification_report(y_test,y_pred)\n",
    "    print(cr)"
   ]
  }
 ],
 "metadata": {
  "kernelspec": {
   "display_name": "Python 3",
   "language": "python",
   "name": "python3"
  },
  "language_info": {
   "codemirror_mode": {
    "name": "ipython",
    "version": 3
   },
   "file_extension": ".py",
   "mimetype": "text/x-python",
   "name": "python",
   "nbconvert_exporter": "python",
   "pygments_lexer": "ipython3",
   "version": "3.13.0"
  }
 },
 "nbformat": 4,
 "nbformat_minor": 2
}
